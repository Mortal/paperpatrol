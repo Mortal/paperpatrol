{
 "cells": [
  {
   "cell_type": "code",
   "execution_count": 1,
   "metadata": {
    "scrolled": true
   },
   "outputs": [
    {
     "name": "stdout",
     "output_type": "stream",
     "text": [
      "*** Matched author:  Diaz G. Sierra Diaz\n",
      "extracting tarball...\n",
      "64\n",
      "51\n",
      "32\n",
      "31\n",
      "50\n",
      "31\n",
      "31\n",
      "31\n",
      "32\n",
      "64\n",
      "32\n",
      "Not an institute paper -- 'Aarhus' keyword not found. \n",
      "\n",
      " Issues =============================== \n",
      "[arXiv:2009.04317] G. Sierra Diaz \n",
      " Not an institute paper -- 'Aarhus' keyword not found.\n",
      " Matched Authors ====================== \n",
      "[arXiv:2009.04317] Diaz       G. Sierra Diaz\n",
      " Compiled outputs ===================== \n"
     ]
    }
   ],
   "source": [
    "# Run the scrapper\n",
    "#%run sac.py -d today"
   ]
  },
  {
   "cell_type": "code",
   "execution_count": 11,
   "metadata": {},
   "outputs": [
    {
     "name": "stdout",
     "output_type": "stream",
     "text": [
      "[1611.08776]: Standing on the shoulders of Dwarfs: the Kepler asteroseismic LEGACY sample II - radii, masses, and ages\n",
      "\tVictor Silva Aguirre, Mikkel N. Lund, H. M. Antia, Warrick H. Ball, Sarbani Basu, Jørgen Christensen-Dalsgaard, Yveline Lebreton, Daniel R. Reese, Kuldeep Verma, Luca Casagrande, Anders B. Justesen, Jakob R. Mosumgaard, William J. Chaplin, Timothy R. Bedding, Guy R. Davies, Rasmus Handberg, Günter Houdek, Daniel Huber, Hans Kjeldsen, David W. Latham, Timothy R. White, Hugo R. Coelho, Andrea Miglio, Ben Rendle\n",
      "*** Matching author:  Aguirre Victor Silva Aguirre\n",
      "*** Matching author:  Lund Mikkel N. Lund\n",
      "*** Matching author:  Christensen-Dalsgaard Jørgen Christensen-Dalsgaard\n",
      "*** Matching author:  Verma Kuldeep Verma\n",
      "*** Matching author:  Justesen Anders B. Justesen\n",
      "*** Matching author:  Mosumgaard Jakob R. Mosumgaard\n",
      "*** Matching author:  Handberg Rasmus Handberg\n",
      "*** Matching author:  Houdek Günter Houdek\n",
      "*** Matching author:  Kjeldsen Hans Kjeldsen\n",
      "extracting tarball...\n",
      "47\n",
      "48\n",
      "47\n",
      "48\n",
      "48\n",
      "48\n",
      "48\n",
      "48\n",
      "48\n",
      "47\n",
      "47\n",
      "47\n",
      "47\n",
      "47\n",
      "\\hl{Victor Silva Aguirre}, et al.; incl. \\hl{Mikkel N. Lund}, \\hl{Jørgen Christensen-Dalsgaard}, \\hl{Kuldeep Verma}, \\hl{Anders B. Justesen}, \\hl{Jakob R. Mosumgaard}, \\hl{Rasmus Handberg}, \\hl{Günter Houdek}, \\hl{Hans Kjeldsen}\n",
      "PDF postage: 1611.08776.pdf\n",
      " Issues =============================== \n",
      " Matched Authors ====================== \n",
      "[1611.08776] Aguirre    Victor Silva Aguirre\n",
      "[1611.08776] Lund       Mikkel N. Lund\n",
      "[1611.08776] Christensen-Dalsgaard Jørgen Christensen-Dalsgaard\n",
      "[1611.08776] Verma      Kuldeep Verma\n",
      "[1611.08776] Justesen   Anders B. Justesen\n",
      "[1611.08776] Mosumgaard Jakob R. Mosumgaard\n",
      "[1611.08776] Handberg   Rasmus Handberg\n",
      "[1611.08776] Houdek     Günter Houdek\n",
      "[1611.08776] Kjeldsen   Hans Kjeldsen\n",
      " Compiled outputs ===================== \n",
      "[1611.08776] Victor Silva Aguirre, Mikkel N. Lund, Jørgen Christensen-Dalsgaard, Kuldeep Verma, Anders B. Justesen, Jakob R. Mosumgaard, Rasmus Handberg, Günter Houdek, Hans Kjeldsen\n"
     ]
    }
   ],
   "source": [
    "# Run the scrapper for a specific id\n",
    "%run sac.py --id 1611.08776"
   ]
  },
  {
   "cell_type": "code",
   "execution_count": 3,
   "metadata": {},
   "outputs": [],
   "source": [
    "# Catch-up since given date (but write todays date on the papers)\n",
    "#%run sac.py --catchup 27/08/2018 -d today"
   ]
  },
  {
   "cell_type": "code",
   "execution_count": 4,
   "metadata": {},
   "outputs": [],
   "source": [
    "#%run sac.py --catchup 01/05/2020"
   ]
  },
  {
   "cell_type": "code",
   "execution_count": 5,
   "metadata": {},
   "outputs": [],
   "source": [
    "#%run sac.py --catchup 01/06/2020"
   ]
  },
  {
   "cell_type": "code",
   "execution_count": 6,
   "metadata": {},
   "outputs": [],
   "source": [
    "#%run sac.py --catchup 01/07/2020"
   ]
  },
  {
   "cell_type": "code",
   "execution_count": 7,
   "metadata": {},
   "outputs": [],
   "source": [
    "#%run sac.py --catchup 01/08/2020"
   ]
  },
  {
   "cell_type": "code",
   "execution_count": null,
   "metadata": {},
   "outputs": [
    {
     "name": "stdout",
     "output_type": "stream",
     "text": [
      "after 2020-09-01 00:00:00\n",
      "*** Matched author:  Karoff Christoffer Karoff\n",
      "*** Matched author:  Albrecht Simon Albrecht\n",
      "*** Matched author:  Aguirre R. M. Aguirre\n",
      "*** Matched author:  Frandsen Mads T. Frandsen\n",
      "*** Matched author:  Lund Michael B. Lund\n",
      "*** Matched author:  Diaz G. Sierra Diaz\n",
      "*** Matched author:  Spitoni Emanuele Spitoni\n",
      "extracting tarball...\n",
      "53\n",
      "53\n",
      "53\n",
      "53\n",
      "53\n",
      "53\n",
      "Fadil Inceoglu, Nestor J. Hernandez Marcano, Rune H. Jacobsen, \\hl{Christoffer Karoff}\n",
      "PDF postage: 2009.00078.pdf\n",
      "extracting tarball...\n",
      "47\n",
      "parse_command(\\includegraphics, code, tokens=1) error\n",
      "Fei Dai, et al.; incl. \\hl{Simon Albrecht}\n"
     ]
    }
   ],
   "source": [
    "%run sac.py --catchup 01/09/2020"
   ]
  },
  {
   "cell_type": "code",
   "execution_count": 1,
   "metadata": {},
   "outputs": [
    {
     "name": "stdout",
     "output_type": "stream",
     "text": [
      "[2008.12397]: TKS III: A Stellar Obliquity Measurement of TOI-1726 c\n",
      "\tFei Dai, Arpita Roy, Benjamin Fulton, Paul Robertson, Lea Hirsch, Howard Isaacson, Simon Albrecht, Andrew W. Mann, Martti H. Kristiansen, Natalie M. Batalha, Corey Beard, Aida Behmard, Ashley Chontos, Ian J. M. Crossfield, Paul A. Dalba, y Courtney Dressing, Steven Giacalone, Michelle Hill, Andrew W. Howard, Daniel Huber, Stephen R. Kane, Molly Kosiarek, Jack Lubin, Andrew Mayo, Teo Mocnik, Joseph M. Akana Murphy, Erik A. Petigura, Lee Rosenthal, Ryan A. Rubenzahl, Nicholas Scarsdale, Lauren M. Weiss, Judah Van Zandt, George R. Ricker, Roland Vanderspek, David W. Latham, Sara Seager, Joshua N. Winn, Jon M. Jenkins, Douglas A. Caldwell, David Charbonneau, Tansu Daylan, Maximilian N. Günther, Edward Morgan, Samuel N. Quinn, Mark E. Rose, Jeffrey C. Smith\n",
      "*** Matching author:  Albrecht Simon Albrecht\n",
      "extracting tarball...\n",
      "47\n",
      "parse_command(\\includegraphics, code, tokens=1) error\n",
      "Fei Dai, et al.; incl. \\hl{Simon Albrecht}\n",
      "[Errno 2] No such file or directory: '/home/amalie/Nextcloud/Uddannelse/UNI/phd/SAC/arxiv_on_deck/tmp/main_cleaned.pdf' \n",
      "\n",
      " Issues =============================== \n",
      "[2008.12397] Simon Albrecht \n",
      " [Errno 2] No such file or directory: '/home/amalie/Nextcloud/Uddannelse/UNI/phd/SAC/arxiv_on_deck/tmp/main_cleaned.pdf'\n",
      " Matched Authors ====================== \n",
      "[2008.12397] Albrecht   Simon Albrecht\n",
      " Compiled outputs ===================== \n"
     ]
    }
   ],
   "source": [
    "%run sac.py --id 2008.12397"
   ]
  },
  {
   "cell_type": "code",
   "execution_count": null,
   "metadata": {},
   "outputs": [],
   "source": []
  }
 ],
 "metadata": {
  "kernelspec": {
   "display_name": "Python 3",
   "language": "python",
   "name": "python3"
  },
  "language_info": {
   "codemirror_mode": {
    "name": "ipython",
    "version": 3
   },
   "file_extension": ".py",
   "mimetype": "text/x-python",
   "name": "python",
   "nbconvert_exporter": "python",
   "pygments_lexer": "ipython3",
   "version": "3.6.9"
  }
 },
 "nbformat": 4,
 "nbformat_minor": 2
}
