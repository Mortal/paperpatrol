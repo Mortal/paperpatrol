{
 "cells": [
  {
   "cell_type": "code",
   "execution_count": 1,
   "metadata": {
    "scrolled": true
   },
   "outputs": [
    {
     "name": "stdout",
     "output_type": "stream",
     "text": [
      "*** Matched author:  Diaz G. Sierra Diaz\n",
      "extracting tarball...\n",
      "64\n",
      "51\n",
      "32\n",
      "31\n",
      "50\n",
      "31\n",
      "31\n",
      "31\n",
      "32\n",
      "64\n",
      "32\n",
      "Not an institute paper -- 'Aarhus' keyword not found. \n",
      "\n",
      " Issues =============================== \n",
      "[arXiv:2009.04317] G. Sierra Diaz \n",
      " Not an institute paper -- 'Aarhus' keyword not found.\n",
      " Matched Authors ====================== \n",
      "[arXiv:2009.04317] Diaz       G. Sierra Diaz\n",
      " Compiled outputs ===================== \n"
     ]
    }
   ],
   "source": [
    "# Run the scrapper\n",
    "#%run sac.py -d today"
   ]
  },
  {
   "cell_type": "code",
   "execution_count": 11,
   "metadata": {},
   "outputs": [
    {
     "name": "stdout",
     "output_type": "stream",
     "text": [
      "[1611.08776]: Standing on the shoulders of Dwarfs: the Kepler asteroseismic LEGACY sample II - radii, masses, and ages\n",
      "\tVictor Silva Aguirre, Mikkel N. Lund, H. M. Antia, Warrick H. Ball, Sarbani Basu, Jørgen Christensen-Dalsgaard, Yveline Lebreton, Daniel R. Reese, Kuldeep Verma, Luca Casagrande, Anders B. Justesen, Jakob R. Mosumgaard, William J. Chaplin, Timothy R. Bedding, Guy R. Davies, Rasmus Handberg, Günter Houdek, Daniel Huber, Hans Kjeldsen, David W. Latham, Timothy R. White, Hugo R. Coelho, Andrea Miglio, Ben Rendle\n",
      "*** Matching author:  Aguirre Victor Silva Aguirre\n",
      "*** Matching author:  Lund Mikkel N. Lund\n",
      "*** Matching author:  Christensen-Dalsgaard Jørgen Christensen-Dalsgaard\n",
      "*** Matching author:  Verma Kuldeep Verma\n",
      "*** Matching author:  Justesen Anders B. Justesen\n",
      "*** Matching author:  Mosumgaard Jakob R. Mosumgaard\n",
      "*** Matching author:  Handberg Rasmus Handberg\n",
      "*** Matching author:  Houdek Günter Houdek\n",
      "*** Matching author:  Kjeldsen Hans Kjeldsen\n",
      "extracting tarball...\n",
      "47\n",
      "48\n",
      "47\n",
      "48\n",
      "48\n",
      "48\n",
      "48\n",
      "48\n",
      "48\n",
      "47\n",
      "47\n",
      "47\n",
      "47\n",
      "47\n",
      "\\hl{Victor Silva Aguirre}, et al.; incl. \\hl{Mikkel N. Lund}, \\hl{Jørgen Christensen-Dalsgaard}, \\hl{Kuldeep Verma}, \\hl{Anders B. Justesen}, \\hl{Jakob R. Mosumgaard}, \\hl{Rasmus Handberg}, \\hl{Günter Houdek}, \\hl{Hans Kjeldsen}\n",
      "PDF postage: 1611.08776.pdf\n",
      " Issues =============================== \n",
      " Matched Authors ====================== \n",
      "[1611.08776] Aguirre    Victor Silva Aguirre\n",
      "[1611.08776] Lund       Mikkel N. Lund\n",
      "[1611.08776] Christensen-Dalsgaard Jørgen Christensen-Dalsgaard\n",
      "[1611.08776] Verma      Kuldeep Verma\n",
      "[1611.08776] Justesen   Anders B. Justesen\n",
      "[1611.08776] Mosumgaard Jakob R. Mosumgaard\n",
      "[1611.08776] Handberg   Rasmus Handberg\n",
      "[1611.08776] Houdek     Günter Houdek\n",
      "[1611.08776] Kjeldsen   Hans Kjeldsen\n",
      " Compiled outputs ===================== \n",
      "[1611.08776] Victor Silva Aguirre, Mikkel N. Lund, Jørgen Christensen-Dalsgaard, Kuldeep Verma, Anders B. Justesen, Jakob R. Mosumgaard, Rasmus Handberg, Günter Houdek, Hans Kjeldsen\n"
     ]
    }
   ],
   "source": [
    "# Run the scrapper for a specific id\n",
    "%run sac.py --id 1611.08776"
   ]
  },
  {
   "cell_type": "code",
   "execution_count": 1,
   "metadata": {},
   "outputs": [
    {
     "name": "stdout",
     "output_type": "stream",
     "text": [
      "after 2020-12-12 00:00:00\n",
      "*** Matched author:  Borre Camilla C. Borre\n",
      "*** Matched author:  Aguirre Victor Silva Aguirre\n",
      "extracting tarball...\n",
      "Jonathan Labadie-Bartz, et al.; incl. \\hl{Camilla C. Borre}\n",
      "PDF postage: 2012.06454.pdf\n",
      "extracting tarball...\n",
      "J. Ted Mackereth, et al.; incl. \\hl{Victor Silva Aguirre}\n",
      "PDF postage: 2012.00140.pdf\n",
      " Issues =============================== \n",
      " Matched Authors ====================== \n",
      "[arXiv:2012.06454] Borre      Camilla C. Borre\n",
      "[arXiv:2012.00140] Aguirre    Victor Silva Aguirre\n",
      " Compiled outputs ===================== \n",
      "[arXiv:2012.06454] Camilla C. Borre\n",
      "[arXiv:2012.00140] Victor Silva Aguirre\n"
     ]
    }
   ],
   "source": [
    "# Catch-up since given date (but write todays date on the papers)\n",
    "%run sac.py --catchup 12/12/2020 -d today"
   ]
  },
  {
   "cell_type": "code",
   "execution_count": 1,
   "metadata": {},
   "outputs": [
    {
     "name": "stdout",
     "output_type": "stream",
     "text": [
      "[2103.10965]: arXivLabs: experimental projects with community collaborators\n",
      "\tE. Spitoni, F. Calura, V. Silva Aguirre, R. Gilli\n",
      "*** Matching author:  Spitoni E. Spitoni\n",
      "*** Matching author:  Aguirre V. Silva Aguirre\n",
      "extracting tarball...\n",
      "\\hl{E. Spitoni}, F. Calura, \\hl{V. Silva Aguirre}, R. Gilli\n",
      "PDF postage: 2103.10965.pdf\n",
      " Issues =============================== \n",
      " Matched Authors ====================== \n",
      "[2103.10965] Spitoni    E. Spitoni\n",
      "[2103.10965] Aguirre    V. Silva Aguirre\n",
      " Compiled outputs ===================== \n",
      "[2103.10965] E. Spitoni, V. Silva Aguirre\n"
     ]
    }
   ],
   "source": [
    "%run sac.py --id 2103.10965"
   ]
  },
  {
   "cell_type": "code",
   "execution_count": 2,
   "metadata": {},
   "outputs": [
    {
     "name": "stdout",
     "output_type": "stream",
     "text": [
      "[2010.02272]: Recommenders and Search Tools\n",
      "\tJason Lee Curtis, Marcel A. Agüeros, Sean P. Matt, Kevin R. Covey, Stephanie T. Douglas, Ruth Angus, Steven H. Saar, Ann Marie Cody, Andrew Vanderburg, Nicholas M. Law, Adam L. Kraus, David W. Latham, Christoph Baranec, Reed Riddle, Carl Ziegler, Mikkel N. Lund, Guillermo Torres, Søren Meibom, Victor Silva Aguirre, Jason T. Wright\n",
      "*** Matching author:  Lund Mikkel N. Lund\n",
      "*** Matching author:  Aguirre Victor Silva Aguirre\n",
      "extracting tarball...\n",
      "[Errno 2] No such file or directory: '/home/amalie/Nextcloud/Uddannelse/UNI/phd/SAC/arxiv_on_deck/tmp/Notes_on_cool_stars.tex' \n",
      "\n",
      "[Errno 2] No such file or directory: '/home/amalie/Nextcloud/Uddannelse/UNI/phd/SAC/arxiv_on_deck/tmp/Table-Clump.tex' \n",
      "\n",
      "[Errno 2] No such file or directory: '/home/amalie/Nextcloud/Uddannelse/UNI/phd/SAC/arxiv_on_deck/tmp/Table-Clump-data.tex' \n",
      "\n",
      "[Errno 2] No such file or directory: '/home/amalie/Nextcloud/Uddannelse/UNI/phd/SAC/arxiv_on_deck/tmp/Notes_on_stars.tex' \n",
      "\n",
      "[Errno 2] No such file or directory: '/home/amalie/Nextcloud/Uddannelse/UNI/phd/SAC/arxiv_on_deck/tmp/Appendix-Models.tex' \n",
      "\n",
      "[Errno 2] No such file or directory: '/home/amalie/Nextcloud/Uddannelse/UNI/phd/SAC/arxiv_on_deck/tmp/Table.tex' \n",
      "\n",
      "Jason Lee Curtis, et al.; incl. \\hl{Mikkel N. Lund}, \\hl{Victor Silva Aguirre}\n",
      "[Errno 2] No such file or directory: '/home/amalie/Nextcloud/Uddannelse/UNI/phd/SAC/arxiv_on_deck/tmp/main_cleaned.pdf' \n",
      "\n",
      " Issues =============================== \n",
      "[2010.02272] Mikkel N. Lund, Victor Silva Aguirre \n",
      " [Errno 2] No such file or directory: '/home/amalie/Nextcloud/Uddannelse/UNI/phd/SAC/arxiv_on_deck/tmp/main_cleaned.pdf'\n",
      " Matched Authors ====================== \n",
      "[2010.02272] Lund       Mikkel N. Lund\n",
      "[2010.02272] Aguirre    Victor Silva Aguirre\n",
      " Compiled outputs ===================== \n"
     ]
    }
   ],
   "source": [
    "%run sac.py --id 2010.02272"
   ]
  },
  {
   "cell_type": "code",
   "execution_count": null,
   "metadata": {},
   "outputs": [],
   "source": []
  }
 ],
 "metadata": {
  "kernelspec": {
   "display_name": "Python 3",
   "language": "python",
   "name": "python3"
  },
  "language_info": {
   "codemirror_mode": {
    "name": "ipython",
    "version": 3
   },
   "file_extension": ".py",
   "mimetype": "text/x-python",
   "name": "python",
   "nbconvert_exporter": "python",
   "pygments_lexer": "ipython3",
   "version": "3.8.5"
  }
 },
 "nbformat": 4,
 "nbformat_minor": 2
}
